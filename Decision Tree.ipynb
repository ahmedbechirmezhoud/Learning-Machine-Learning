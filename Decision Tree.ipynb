{
 "cells": [
  {
   "cell_type": "markdown",
   "id": "1df9fe47",
   "metadata": {},
   "source": [
    "# Decision Tree "
   ]
  },
  {
   "cell_type": "code",
   "execution_count": 1,
   "id": "8d9ed34d",
   "metadata": {},
   "outputs": [],
   "source": [
    "from sklearn import datasets\n",
    "import pandas as pd"
   ]
  },
  {
   "cell_type": "markdown",
   "id": "601ee4c9",
   "metadata": {},
   "source": [
    "**Load Iris Dataset** \n",
    " \n",
    " Iris is a genus of 260–300 species of flowering plants\n",
    "with showy flowers. However, in our dataset, just three species are covered—Setosa,\n",
    "Versicolor, and Virginica"
   ]
  },
  {
   "cell_type": "code",
   "execution_count": 2,
   "id": "57b40545",
   "metadata": {},
   "outputs": [
    {
     "data": {
      "text/plain": [
       "['DESCR',\n",
       " 'data',\n",
       " 'data_module',\n",
       " 'feature_names',\n",
       " 'filename',\n",
       " 'frame',\n",
       " 'target',\n",
       " 'target_names']"
      ]
     },
     "execution_count": 2,
     "metadata": {},
     "output_type": "execute_result"
    }
   ],
   "source": [
    "iris = datasets.load_iris()\n",
    "dir(iris)"
   ]
  },
  {
   "cell_type": "code",
   "execution_count": 3,
   "id": "7d3b20da",
   "metadata": {},
   "outputs": [
    {
     "name": "stdout",
     "output_type": "stream",
     "text": [
      ".. _iris_dataset:\n",
      "\n",
      "Iris plants dataset\n",
      "--------------------\n",
      "\n",
      "**Data Set Characteristics:**\n",
      "\n",
      "    :Number of Instances: 150 (50 in each of three classes)\n",
      "    :Number of Attributes: 4 numeric, predictive attributes and the class\n",
      "    :Attribute Information:\n",
      "        - sepal length in cm\n",
      "        - sepal width in cm\n",
      "        - petal length in cm\n",
      "        - petal width in cm\n",
      "        - class:\n",
      "                - Iris-Setosa\n",
      "                - Iris-Versicolour\n",
      "                - Iris-Virginica\n",
      "                \n",
      "    :Summary Statistics:\n",
      "\n",
      "    ============== ==== ==== ======= ===== ====================\n",
      "                    Min  Max   Mean    SD   Class Correlation\n",
      "    ============== ==== ==== ======= ===== ====================\n",
      "    sepal length:   4.3  7.9   5.84   0.83    0.7826\n",
      "    sepal width:    2.0  4.4   3.05   0.43   -0.4194\n",
      "    petal length:   1.0  6.9   3.76   1.76    0.9490  (high!)\n",
      "    petal width:    0.1  2.5   1.20   0.76    0.9565  (high!)\n",
      "    ============== ==== ==== ======= ===== ====================\n",
      "\n",
      "    :Missing Attribute Values: None\n",
      "    :Class Distribution: 33.3% for each of 3 classes.\n",
      "    :Creator: R.A. Fisher\n",
      "    :Donor: Michael Marshall (MARSHALL%PLU@io.arc.nasa.gov)\n",
      "    :Date: July, 1988\n",
      "\n",
      "The famous Iris database, first used by Sir R.A. Fisher. The dataset is taken\n",
      "from Fisher's paper. Note that it's the same as in R, but not as in the UCI\n",
      "Machine Learning Repository, which has two wrong data points.\n",
      "\n",
      "This is perhaps the best known database to be found in the\n",
      "pattern recognition literature.  Fisher's paper is a classic in the field and\n",
      "is referenced frequently to this day.  (See Duda & Hart, for example.)  The\n",
      "data set contains 3 classes of 50 instances each, where each class refers to a\n",
      "type of iris plant.  One class is linearly separable from the other 2; the\n",
      "latter are NOT linearly separable from each other.\n",
      "\n",
      ".. topic:: References\n",
      "\n",
      "   - Fisher, R.A. \"The use of multiple measurements in taxonomic problems\"\n",
      "     Annual Eugenics, 7, Part II, 179-188 (1936); also in \"Contributions to\n",
      "     Mathematical Statistics\" (John Wiley, NY, 1950).\n",
      "   - Duda, R.O., & Hart, P.E. (1973) Pattern Classification and Scene Analysis.\n",
      "     (Q327.D83) John Wiley & Sons.  ISBN 0-471-22361-1.  See page 218.\n",
      "   - Dasarathy, B.V. (1980) \"Nosing Around the Neighborhood: A New System\n",
      "     Structure and Classification Rule for Recognition in Partially Exposed\n",
      "     Environments\".  IEEE Transactions on Pattern Analysis and Machine\n",
      "     Intelligence, Vol. PAMI-2, No. 1, 67-71.\n",
      "   - Gates, G.W. (1972) \"The Reduced Nearest Neighbor Rule\".  IEEE Transactions\n",
      "     on Information Theory, May 1972, 431-433.\n",
      "   - See also: 1988 MLC Proceedings, 54-64.  Cheeseman et al\"s AUTOCLASS II\n",
      "     conceptual clustering system finds 3 classes in the data.\n",
      "   - Many, many more ...\n"
     ]
    }
   ],
   "source": [
    "print(iris.DESCR)"
   ]
  },
  {
   "cell_type": "code",
   "execution_count": 4,
   "id": "322f4b2e",
   "metadata": {},
   "outputs": [],
   "source": [
    "df = pd.DataFrame(\n",
    " iris.data,\n",
    " columns=iris.feature_names\n",
    ")\n",
    "df['target'] = pd.Series(\n",
    " iris.target\n",
    ")\n",
    "df['target_names'] = df['target'].apply(lambda y:\n",
    "iris.target_names[y])"
   ]
  },
  {
   "cell_type": "code",
   "execution_count": 5,
   "id": "e5f86e94",
   "metadata": {},
   "outputs": [
    {
     "data": {
      "text/html": [
       "<div>\n",
       "<style scoped>\n",
       "    .dataframe tbody tr th:only-of-type {\n",
       "        vertical-align: middle;\n",
       "    }\n",
       "\n",
       "    .dataframe tbody tr th {\n",
       "        vertical-align: top;\n",
       "    }\n",
       "\n",
       "    .dataframe thead th {\n",
       "        text-align: right;\n",
       "    }\n",
       "</style>\n",
       "<table border=\"1\" class=\"dataframe\">\n",
       "  <thead>\n",
       "    <tr style=\"text-align: right;\">\n",
       "      <th></th>\n",
       "      <th>sepal length (cm)</th>\n",
       "      <th>sepal width (cm)</th>\n",
       "      <th>petal length (cm)</th>\n",
       "      <th>petal width (cm)</th>\n",
       "      <th>target</th>\n",
       "      <th>target_names</th>\n",
       "    </tr>\n",
       "  </thead>\n",
       "  <tbody>\n",
       "    <tr>\n",
       "      <th>70</th>\n",
       "      <td>5.9</td>\n",
       "      <td>3.2</td>\n",
       "      <td>4.8</td>\n",
       "      <td>1.8</td>\n",
       "      <td>1</td>\n",
       "      <td>versicolor</td>\n",
       "    </tr>\n",
       "    <tr>\n",
       "      <th>3</th>\n",
       "      <td>4.6</td>\n",
       "      <td>3.1</td>\n",
       "      <td>1.5</td>\n",
       "      <td>0.2</td>\n",
       "      <td>0</td>\n",
       "      <td>setosa</td>\n",
       "    </tr>\n",
       "    <tr>\n",
       "      <th>12</th>\n",
       "      <td>4.8</td>\n",
       "      <td>3.0</td>\n",
       "      <td>1.4</td>\n",
       "      <td>0.1</td>\n",
       "      <td>0</td>\n",
       "      <td>setosa</td>\n",
       "    </tr>\n",
       "    <tr>\n",
       "      <th>65</th>\n",
       "      <td>6.7</td>\n",
       "      <td>3.1</td>\n",
       "      <td>4.4</td>\n",
       "      <td>1.4</td>\n",
       "      <td>1</td>\n",
       "      <td>versicolor</td>\n",
       "    </tr>\n",
       "    <tr>\n",
       "      <th>129</th>\n",
       "      <td>7.2</td>\n",
       "      <td>3.0</td>\n",
       "      <td>5.8</td>\n",
       "      <td>1.6</td>\n",
       "      <td>2</td>\n",
       "      <td>virginica</td>\n",
       "    </tr>\n",
       "    <tr>\n",
       "      <th>108</th>\n",
       "      <td>6.7</td>\n",
       "      <td>2.5</td>\n",
       "      <td>5.8</td>\n",
       "      <td>1.8</td>\n",
       "      <td>2</td>\n",
       "      <td>virginica</td>\n",
       "    </tr>\n",
       "  </tbody>\n",
       "</table>\n",
       "</div>"
      ],
      "text/plain": [
       "     sepal length (cm)  sepal width (cm)  petal length (cm)  petal width (cm)  \\\n",
       "70                 5.9               3.2                4.8               1.8   \n",
       "3                  4.6               3.1                1.5               0.2   \n",
       "12                 4.8               3.0                1.4               0.1   \n",
       "65                 6.7               3.1                4.4               1.4   \n",
       "129                7.2               3.0                5.8               1.6   \n",
       "108                6.7               2.5                5.8               1.8   \n",
       "\n",
       "     target target_names  \n",
       "70        1   versicolor  \n",
       "3         0       setosa  \n",
       "12        0       setosa  \n",
       "65        1   versicolor  \n",
       "129       2    virginica  \n",
       "108       2    virginica  "
      ]
     },
     "execution_count": 5,
     "metadata": {},
     "output_type": "execute_result"
    }
   ],
   "source": [
    "df.sample(n=6)"
   ]
  },
  {
   "cell_type": "code",
   "execution_count": 6,
   "id": "780cef31",
   "metadata": {},
   "outputs": [],
   "source": [
    "from sklearn.model_selection import train_test_split\n",
    "df_train, df_test = train_test_split(df, test_size=0.3)"
   ]
  },
  {
   "cell_type": "code",
   "execution_count": 7,
   "id": "f7f95a5f",
   "metadata": {},
   "outputs": [],
   "source": [
    "x_train = df_train[iris.feature_names]\n",
    "x_test = df_test[iris.feature_names]\n",
    "y_train = df_train['target']\n",
    "y_test = df_test['target']"
   ]
  },
  {
   "cell_type": "code",
   "execution_count": 8,
   "id": "dcbedea1",
   "metadata": {},
   "outputs": [],
   "source": [
    "from sklearn.tree import DecisionTreeClassifier\n",
    "\n",
    "clf = DecisionTreeClassifier()\n",
    "\n",
    "clf.fit(x_train, y_train)"
   ]
  },
  {
   "cell_type": "code",
   "execution_count": 10,
   "id": "055f487b",
   "metadata": {},
   "outputs": [],
   "source": [
    "y_test_pred = clf.predict(x_test)"
   ]
  },
  {
   "cell_type": "code",
   "execution_count": 11,
   "id": "0de0d305",
   "metadata": {},
   "outputs": [
    {
     "data": {
      "text/plain": [
       "0.9555555555555556"
      ]
     },
     "execution_count": 11,
     "metadata": {},
     "output_type": "execute_result"
    }
   ],
   "source": [
    "from sklearn.metrics import accuracy_score\n",
    "accuracy_score(y_test, y_test_pred)"
   ]
  },
  {
   "cell_type": "code",
   "execution_count": 12,
   "id": "8d961360",
   "metadata": {},
   "outputs": [
    {
     "name": "stdout",
     "output_type": "stream",
     "text": [
      "|--- petal length (cm) <= 2.4\n",
      "|   |--- class: 0\n",
      "|--- petal length (cm) >  2.4\n",
      "|   |--- petal length (cm) <= 4.8\n",
      "|   |   |--- class: 1\n",
      "|   |--- petal length (cm) >  4.8\n",
      "|   |   |--- petal width (cm) <= 1.8\n",
      "|   |   |   |--- petal length (cm) <= 5.0\n",
      "|   |   |   |   |--- class: 1\n",
      "|   |   |   |--- petal length (cm) >  5.0\n",
      "|   |   |   |   |--- petal width (cm) <= 1.6\n",
      "|   |   |   |   |   |--- class: 2\n",
      "|   |   |   |   |--- petal width (cm) >  1.6\n",
      "|   |   |   |   |   |--- petal length (cm) <= 5.5\n",
      "|   |   |   |   |   |   |--- class: 1\n",
      "|   |   |   |   |   |--- petal length (cm) >  5.5\n",
      "|   |   |   |   |   |   |--- class: 2\n",
      "|   |   |--- petal width (cm) >  1.8\n",
      "|   |   |   |--- class: 2\n",
      "\n"
     ]
    }
   ],
   "source": [
    "from sklearn.tree import export_text\n",
    "print(\n",
    " export_text(clf, feature_names=iris.feature_names, spacing=3, decimals=1)\n",
    ")"
   ]
  },
  {
   "cell_type": "markdown",
   "id": "e182c696",
   "metadata": {},
   "source": [
    "### repeated random sub-sampling validation, or Monte Carlo cross-validation.\n",
    "*let's run the whole process of data splitting, training, and predicting, **more than once**, and get the distribution of the different accuracy scores we get each time.* "
   ]
  },
  {
   "cell_type": "code",
   "execution_count": 13,
   "id": "e6c47f5c",
   "metadata": {},
   "outputs": [],
   "source": [
    "#A list to store the score from each iteration\n",
    "accuracy_scores = []\n",
    "\n",
    "\n",
    "for _ in range(100):\n",
    "    # At each iteration we freshly split our data\n",
    "    df_train, df_test = train_test_split(df, test_size=0.3)\n",
    "    x_train = df_train[iris.feature_names]\n",
    "    x_test = df_test[iris.feature_names]\n",
    "    y_train = df_train['target']\n",
    "    y_test = df_test['target']\n",
    "    # We then create a new classifier\n",
    "    clf = DecisionTreeClassifier()\n",
    "    # And use it for training and prediction\n",
    "    clf.fit(x_train, y_train)\n",
    "    y_pred = clf.predict(x_test)\n",
    "    # Finally, we append the score to our list\n",
    "    accuracy_scores.append(round(accuracy_score(y_test, y_pred), 3))\n",
    "# Better convert accuracy_scores from a list into a series\n",
    "# Pandas series provides statistical methods to use later\n",
    "accuracy_scores = pd.Series(accuracy_scores)\n"
   ]
  },
  {
   "cell_type": "code",
   "execution_count": 16,
   "id": "5ae202fa",
   "metadata": {},
   "outputs": [
    {
     "name": "stdout",
     "output_type": "stream",
     "text": [
      "Average Score: 0.945 [5th percentile: 0.889 & 95th percentile:0.978]\n"
     ]
    },
    {
     "data": {
      "image/png": "[encoded data removed]",
      "text/plain": [
       "<Figure size 432x288 with 1 Axes>"
      ]
     },
     "metadata": {
      "needs_background": "light"
     },
     "output_type": "display_data"
    }
   ],
   "source": [
    "accuracy_scores.plot(\n",
    " title='Distribution of classifier accuracy',\n",
    " kind='box',\n",
    ")\n",
    "print(\n",
    " 'Average Score: {:.3} [5th percentile: {:.3} & 95th percentile:{:.3}]'.format(\n",
    " accuracy_scores.mean(),\n",
    " accuracy_scores.quantile(.05),\n",
    " accuracy_scores.quantile(.95),\n",
    " )\n",
    ")\n"
   ]
  },
  {
   "cell_type": "markdown",
   "id": "67410aec",
   "metadata": {},
   "source": [
    "### scikit-learn's ShuffleSplit module"
   ]
  },
  {
   "cell_type": "code",
   "execution_count": 18,
   "id": "ef7fff73",
   "metadata": {},
   "outputs": [],
   "source": [
    "from sklearn.model_selection import ShuffleSplit\n",
    "\n",
    "accuracy_scores = []\n",
    "\n",
    "# Create a shuffle split instance\n",
    "rs = ShuffleSplit(n_splits=100, test_size=0.3)\n",
    "# We now get 100 pairs of indices\n",
    "for train_index, test_index in rs.split(df):\n",
    "    x_train = df.loc[train_index, iris.feature_names]\n",
    "    x_test = df.loc[test_index, iris.feature_names]\n",
    "    y_train = df.loc[train_index, 'target']\n",
    "    y_test = df.loc[test_index, 'target']\n",
    "    clf = DecisionTreeClassifier()\n",
    "    clf.fit(x_train, y_train)\n",
    "    y_pred = clf.predict(x_test)\n",
    "    accuracy_scores.append(round(accuracy_score(y_test, y_pred), 3))\n",
    "    \n",
    "accuracy_scores = pd.Series(accuracy_scores)\n"
   ]
  },
  {
   "cell_type": "code",
   "execution_count": 19,
   "id": "476d924b",
   "metadata": {},
   "outputs": [
    {
     "name": "stdout",
     "output_type": "stream",
     "text": [
      "Average Score: 0.944 [5th percentile: 0.889 & 95th percentile:1.0]\n"
     ]
    },
    {
     "data": {
      "image/png": "[encoded data removed]",
      "text/plain": [
       "<Figure size 432x288 with 1 Axes>"
      ]
     },
     "metadata": {
      "needs_background": "light"
     },
     "output_type": "display_data"
    }
   ],
   "source": [
    "accuracy_scores.plot(\n",
    " title='Distribution of classifier accuracy using ShuffleSplit module',\n",
    " kind='box',\n",
    ")\n",
    "print(\n",
    " 'Average Score: {:.3} [5th percentile: {:.3} & 95th percentile:{:.3}]'.format(\n",
    " accuracy_scores.mean(),\n",
    " accuracy_scores.quantile(.05),\n",
    " accuracy_scores.quantile(.95),\n",
    " )\n",
    ")"
   ]
  },
  {
   "cell_type": "markdown",
   "id": "92184b5f",
   "metadata": {},
   "source": [
    "### scikit-learn's Cross_validate functionality"
   ]
  },
  {
   "cell_type": "code",
   "execution_count": 20,
   "id": "aa335585",
   "metadata": {},
   "outputs": [],
   "source": [
    "from sklearn.model_selection import cross_validate\n",
    "\n",
    "clf = DecisionTreeClassifier()\n",
    "rs = ShuffleSplit(n_splits=100, test_size=0.3)\n",
    "\n",
    "x = df[iris.feature_names]\n",
    "y = df['target']\n",
    "cv_results = cross_validate(\n",
    " clf, x, y, cv=rs, scoring='accuracy'\n",
    ")\n",
    "accuracy_scores = pd.Series(cv_results['test_score'])\n"
   ]
  },
  {
   "cell_type": "code",
   "execution_count": 21,
   "id": "fb0a5355",
   "metadata": {},
   "outputs": [
    {
     "name": "stdout",
     "output_type": "stream",
     "text": [
      "Average Score: 0.948 [5th percentile: 0.911 & 95th percentile:0.978]\n"
     ]
    },
    {
     "data": {
      "image/png": "[encoded data removed]",
      "text/plain": [
       "<Figure size 432x288 with 1 Axes>"
      ]
     },
     "metadata": {
      "needs_background": "light"
     },
     "output_type": "display_data"
    }
   ],
   "source": [
    "accuracy_scores.plot(\n",
    " title='Distribution of classifier accuracy using coss_validate',\n",
    " kind='box',\n",
    ")\n",
    "print(\n",
    " 'Average Score: {:.3} [5th percentile: {:.3} & 95th percentile:{:.3}]'.format(\n",
    " accuracy_scores.mean(),\n",
    " accuracy_scores.quantile(.05),\n",
    " accuracy_scores.quantile(.95),\n",
    " )\n",
    ")"
   ]
  },
  {
   "cell_type": "markdown",
   "id": "b7bf8954",
   "metadata": {},
   "source": [
    "### Trying different hyperparameter values"
   ]
  },
  {
   "cell_type": "code",
   "execution_count": 22,
   "id": "02a4ea2a",
   "metadata": {},
   "outputs": [
    {
     "name": "stdout",
     "output_type": "stream",
     "text": [
      "@ max_depth = 1: accuracy_scores: 0.515~0.667\n",
      "@ max_depth = 2: accuracy_scores: 0.889~1.0\n",
      "@ max_depth = 3: accuracy_scores: 0.926~1.0\n",
      "@ max_depth = 4: accuracy_scores: 0.926~1.0\n"
     ]
    }
   ],
   "source": [
    "\n",
    "for max_depth in [1, 2, 3, 4]:\n",
    "    # We initialize a new classifier each iteration with different max_depth\n",
    "    clf = DecisionTreeClassifier(max_depth=max_depth)\n",
    "    # We also initialize our shuffle splitter\n",
    "    rs = ShuffleSplit(n_splits=20, test_size=0.25)\n",
    "    cv_results = cross_validate(\n",
    "    clf, x_train, y_train, cv=rs, scoring='accuracy'\n",
    "    )\n",
    "    accuracy_scores = pd.Series(cv_results['test_score'])\n",
    "    print(\n",
    "    '@ max_depth = {}: accuracy_scores: {}~{}'.format(\n",
    "    max_depth,\n",
    "    accuracy_scores.quantile(.1).round(3),\n",
    "    accuracy_scores.quantile(.9).round(3)))\n"
   ]
  },
  {
   "cell_type": "markdown",
   "id": "1ef28c2c",
   "metadata": {},
   "source": [
    "###  train a model once more using the entire training set and a max_depth value 3"
   ]
  },
  {
   "cell_type": "code",
   "execution_count": 24,
   "id": "ed76feea",
   "metadata": {},
   "outputs": [
    {
     "data": {
      "text/html": [
       "<style>#sk-container-id-2 {color: black;background-color: white;}#sk-container-id-2 pre{padding: 0;}#sk-container-id-2 div.sk-toggleable {background-color: white;}#sk-container-id-2 label.sk-toggleable__label {cursor: pointer;display: block;width: 100%;margin-bottom: 0;padding: 0.3em;box-sizing: border-box;text-align: center;}#sk-container-id-2 label.sk-toggleable__label-arrow:before {content: \"▸\";float: left;margin-right: 0.25em;color: #696969;}#sk-container-id-2 label.sk-toggleable__label-arrow:hover:before {color: black;}#sk-container-id-2 div.sk-estimator:hover label.sk-toggleable__label-arrow:before {color: black;}#sk-container-id-2 div.sk-toggleable__content {max-height: 0;max-width: 0;overflow: hidden;text-align: left;background-color: #f0f8ff;}#sk-container-id-2 div.sk-toggleable__content pre {margin: 0.2em;color: black;border-radius: 0.25em;background-color: #f0f8ff;}#sk-container-id-2 input.sk-toggleable__control:checked~div.sk-toggleable__content {max-height: 200px;max-width: 100%;overflow: auto;}#sk-container-id-2 input.sk-toggleable__control:checked~label.sk-toggleable__label-arrow:before {content: \"▾\";}#sk-container-id-2 div.sk-estimator input.sk-toggleable__control:checked~label.sk-toggleable__label {background-color: #d4ebff;}#sk-container-id-2 div.sk-label input.sk-toggleable__control:checked~label.sk-toggleable__label {background-color: #d4ebff;}#sk-container-id-2 input.sk-hidden--visually {border: 0;clip: rect(1px 1px 1px 1px);clip: rect(1px, 1px, 1px, 1px);height: 1px;margin: -1px;overflow: hidden;padding: 0;position: absolute;width: 1px;}#sk-container-id-2 div.sk-estimator {font-family: monospace;background-color: #f0f8ff;border: 1px dotted black;border-radius: 0.25em;box-sizing: border-box;margin-bottom: 0.5em;}#sk-container-id-2 div.sk-estimator:hover {background-color: #d4ebff;}#sk-container-id-2 div.sk-parallel-item::after {content: \"\";width: 100%;border-bottom: 1px solid gray;flex-grow: 1;}#sk-container-id-2 div.sk-label:hover label.sk-toggleable__label {background-color: #d4ebff;}#sk-container-id-2 div.sk-serial::before {content: \"\";position: absolute;border-left: 1px solid gray;box-sizing: border-box;top: 0;bottom: 0;left: 50%;z-index: 0;}#sk-container-id-2 div.sk-serial {display: flex;flex-direction: column;align-items: center;background-color: white;padding-right: 0.2em;padding-left: 0.2em;position: relative;}#sk-container-id-2 div.sk-item {position: relative;z-index: 1;}#sk-container-id-2 div.sk-parallel {display: flex;align-items: stretch;justify-content: center;background-color: white;position: relative;}#sk-container-id-2 div.sk-item::before, #sk-container-id-2 div.sk-parallel-item::before {content: \"\";position: absolute;border-left: 1px solid gray;box-sizing: border-box;top: 0;bottom: 0;left: 50%;z-index: -1;}#sk-container-id-2 div.sk-parallel-item {display: flex;flex-direction: column;z-index: 1;position: relative;background-color: white;}#sk-container-id-2 div.sk-parallel-item:first-child::after {align-self: flex-end;width: 50%;}#sk-container-id-2 div.sk-parallel-item:last-child::after {align-self: flex-start;width: 50%;}#sk-container-id-2 div.sk-parallel-item:only-child::after {width: 0;}#sk-container-id-2 div.sk-dashed-wrapped {border: 1px dashed gray;margin: 0 0.4em 0.5em 0.4em;box-sizing: border-box;padding-bottom: 0.4em;background-color: white;}#sk-container-id-2 div.sk-label label {font-family: monospace;font-weight: bold;display: inline-block;line-height: 1.2em;}#sk-container-id-2 div.sk-label-container {text-align: center;}#sk-container-id-2 div.sk-container {/* jupyter's `normalize.less` sets `[hidden] { display: none; }` but bootstrap.min.css set `[hidden] { display: none !important; }` so we also need the `!important` here to be able to override the default hidden behavior on the sphinx rendered scikit-learn.org. See: https://github.com/scikit-learn/scikit-learn/issues/21755 */display: inline-block !important;position: relative;}#sk-container-id-2 div.sk-text-repr-fallback {display: none;}</style><div id=\"sk-container-id-2\" class=\"sk-top-container\"><div class=\"sk-text-repr-fallback\"><pre>DecisionTreeClassifier(max_depth=3)</pre><b>In a Jupyter environment, please rerun this cell to show the HTML representation or trust the notebook. <br />On GitHub, the HTML representation is unable to render, please try loading this page with nbviewer.org.</b></div><div class=\"sk-container\" hidden><div class=\"sk-item\"><div class=\"sk-estimator sk-toggleable\"><input class=\"sk-toggleable__control sk-hidden--visually\" id=\"sk-estimator-id-2\" type=\"checkbox\" checked><label for=\"sk-estimator-id-2\" class=\"sk-toggleable__label sk-toggleable__label-arrow\">DecisionTreeClassifier</label><div class=\"sk-toggleable__content\"><pre>DecisionTreeClassifier(max_depth=3)</pre></div></div></div></div></div>"
      ],
      "text/plain": [
       "DecisionTreeClassifier(max_depth=3)"
      ]
     },
     "execution_count": 24,
     "metadata": {},
     "output_type": "execute_result"
    }
   ],
   "source": [
    "clf = DecisionTreeClassifier(max_depth=3)\n",
    "\n",
    "x_train = df[iris.feature_names]\n",
    "y_train = df['target']\n",
    "\n",
    "clf.fit(x_train, y_train)"
   ]
  },
  {
   "cell_type": "markdown",
   "id": "926b91b0",
   "metadata": {},
   "source": [
    "## Feature engineering"
   ]
  },
  {
   "cell_type": "code",
   "execution_count": 36,
   "id": "ebf1aa6a",
   "metadata": {},
   "outputs": [],
   "source": [
    "iris = datasets.load_iris()\n",
    "df = pd.DataFrame(\n",
    " iris.data,\n",
    " columns=iris.feature_names\n",
    ")\n",
    "df['target'] = pd.Series(\n",
    " iris.target\n",
    ")\n",
    "df['target_names'] = df['target'].apply(lambda y:\n",
    "iris.target_names[y])"
   ]
  },
  {
   "cell_type": "code",
   "execution_count": 37,
   "id": "defd9be7",
   "metadata": {},
   "outputs": [],
   "source": [
    "##create two new columns—petal length x width (cm) and sepal length x width (cm)\n",
    "\n",
    "df['petal length x width (cm)'] = df['petal length (cm)'] * df['petal width (cm)']\n",
    "df['sepal length x width (cm)'] = df['sepal length (cm)'] * df['sepal width (cm)']"
   ]
  },
  {
   "cell_type": "code",
   "execution_count": 38,
   "id": "f4f1daae",
   "metadata": {},
   "outputs": [
    {
     "data": {
      "image/png": "[encoded data removed]",
      "text/plain": [
       "<Figure size 864x432 with 1 Axes>"
      ]
     },
     "metadata": {
      "needs_background": "light"
     },
     "output_type": "display_data"
    }
   ],
   "source": [
    "import matplotlib.pyplot as plt\n",
    "# plot the classes versus the newly derived features\n",
    "fig, ax = plt.subplots(1, 1, figsize=(12, 6));\n",
    "h_label = 'petal length x width (cm)'\n",
    "v_label = 'sepal length x width (cm)'\n",
    "for c in df['target'].value_counts().index.tolist():\n",
    "    df[df['target'] == c].plot(\n",
    "    title='Class distribution vs the newly derived features',\n",
    "    kind='scatter',\n",
    "    x=h_label,\n",
    "    y=v_label,\n",
    "    color=['r', 'g', 'b'][c], # Each class different color\n",
    "    marker=f'${c}$', # Use class id as marker\n",
    "    s=64,\n",
    "    alpha=0.5,\n",
    "    ax=ax,\n",
    "    )\n"
   ]
  },
  {
   "cell_type": "code",
   "execution_count": 45,
   "id": "3c64f47d",
   "metadata": {},
   "outputs": [],
   "source": [
    "features_orig = iris.feature_names\n",
    "features_new = ['petal length x width (cm)', 'sepal length x width (cm)']\n",
    "accuracy_scores_orig = []\n",
    "accuracy_scores_new = []\n",
    "\n",
    "for _ in range(500):\n",
    "    df_train, df_test = train_test_split(df, test_size=0.3)\n",
    "    x_train_orig = df_train[features_orig]\n",
    "    x_test_orig = df_test[features_orig]\n",
    "    x_train_new = df_train[features_new]\n",
    "    x_test_new = df_test[features_new]\n",
    "    y_train = df_train['target']\n",
    "    y_test = df_test['target']\n",
    "    clf_orig = DecisionTreeClassifier(max_depth=2)\n",
    "    clf_new = DecisionTreeClassifier(max_depth=2)\n",
    "    clf_orig.fit(x_train_orig, y_train)\n",
    "    clf_new.fit(x_train_new, y_train)\n",
    "    y_pred_orig = clf_orig.predict(x_test_orig)\n",
    "    y_pred_new = clf_new.predict(x_test_new)\n",
    "    accuracy_scores_orig.append(round(accuracy_score(y_test, y_pred_orig), 3))\n",
    "    accuracy_scores_new.append(round(accuracy_score(y_test, y_pred_new), 3))\n",
    "    \n",
    "accuracy_scores_orig = pd.Series(accuracy_scores_orig)\n",
    "accuracy_scores_new = pd.Series(accuracy_scores_new)\n"
   ]
  },
  {
   "cell_type": "code",
   "execution_count": 46,
   "id": "2a4ad234",
   "metadata": {},
   "outputs": [
    {
     "data": {
      "text/plain": [
       "<AxesSubplot:title={'center':'Distribution of classifier accuracy [New Features]'}>"
      ]
     },
     "execution_count": 46,
     "metadata": {},
     "output_type": "execute_result"
    },
    {
     "data": {
      "image/png": "[encoded data removed]",
      "text/plain": [
       "<Figure size 1152x432 with 2 Axes>"
      ]
     },
     "metadata": {
      "needs_background": "light"
     },
     "output_type": "display_data"
    }
   ],
   "source": [
    "fig, axs = plt.subplots(1, 2, figsize=(16, 6), sharey=True);\n",
    "accuracy_scores_orig.plot(\n",
    " title='Distribution of classifier accuracy [Original Features]',\n",
    " kind='box',\n",
    " grid=True,\n",
    " ax=axs[0]\n",
    ")\n",
    "accuracy_scores_new.plot(\n",
    " title='Distribution of classifier accuracy [New Features]',\n",
    " kind='box',\n",
    " grid=True,\n",
    " ax=axs[1]\n",
    ")\n"
   ]
  },
  {
   "cell_type": "markdown",
   "id": "503f9b05",
   "metadata": {},
   "source": [
    "## Building decision tree regressors"
   ]
  },
  {
   "cell_type": "markdown",
   "id": "7cc28f41",
   "metadata": {},
   "source": [
    "#### Predicting people's heights\n",
    "Population 1 has an average height of 155 cm for females,\n",
    "with a standard deviation of 4, and an average height of 175 cm for males, with a standard\n",
    "deviation of 5. Population 2 has an average height of 165 cm for females, with a standard\n",
    "deviation of 15, and an average height of 185 cm for males, with a standard deviation of 12.\n",
    "We decide to take 200 males and 200 females from each population."
   ]
  },
  {
   "cell_type": "code",
   "execution_count": 47,
   "id": "c938c71b",
   "metadata": {},
   "outputs": [],
   "source": [
    "import numpy as np\n",
    "# We need 200 samples from each\n",
    "n = 200\n",
    "# From each population we get 200 male and 200 female samples\n",
    "height_pop1_f = np.random.normal(loc=155, scale=4, size=n)\n",
    "height_pop1_m = np.random.normal(loc=175, scale=5, size=n)\n",
    "height_pop2_f = np.random.normal(loc=165, scale=15, size=n)\n",
    "height_pop2_m = np.random.normal(loc=185, scale=12, size=n)\n",
    "\n",
    "# We group all females together and all males together\n",
    "height_f = np.concatenate([height_pop1_f, height_pop2_f])\n",
    "height_m = np.concatenate([height_pop1_m, height_pop2_m])\n",
    "\n",
    "df_height = pd.DataFrame(\n",
    " {\n",
    " 'Gender': [1 for i in range(height_f.size)] +\n",
    " [2 for i in range(height_m.size)],\n",
    " 'Height': np.concatenate((height_f, height_m))\n",
    " }\n",
    ")\n"
   ]
  },
  {
   "cell_type": "code",
   "execution_count": 48,
   "id": "923d05f7",
   "metadata": {},
   "outputs": [
    {
     "data": {
      "text/plain": [
       "<matplotlib.legend.Legend at 0x7fc0b6d86190>"
      ]
     },
     "execution_count": 48,
     "metadata": {},
     "output_type": "execute_result"
    },
    {
     "data": {
      "image/png": "[encoded data removed]",
      "text/plain": [
       "<Figure size 720x360 with 1 Axes>"
      ]
     },
     "metadata": {
      "needs_background": "light"
     },
     "output_type": "display_data"
    }
   ],
   "source": [
    "fig, ax = plt.subplots(1, 1, figsize=(10, 5))\n",
    "df_height[df_height['Gender'] == 1]['Height'].plot(\n",
    " label='Female', kind='hist',\n",
    " bins=10, alpha=0.7, ax=ax\n",
    ")\n",
    "df_height[df_height['Gender'] == 2]['Height'].plot(\n",
    " label='Male', kind='hist',\n",
    " bins=10, alpha=0.7, ax=ax\n",
    ")\n",
    "ax.legend()"
   ]
  },
  {
   "cell_type": "code",
   "execution_count": 49,
   "id": "7fd2be62",
   "metadata": {},
   "outputs": [],
   "source": [
    "df_train, df_test = train_test_split(df_height, test_size=0.3)\n",
    "x_train, x_test = df_train[['Gender']], df_test[['Gender']]\n",
    "y_train, y_test = df_train['Height'], df_test['Height']"
   ]
  },
  {
   "cell_type": "code",
   "execution_count": 52,
   "id": "2b0fba2d",
   "metadata": {},
   "outputs": [
    {
     "name": "stdout",
     "output_type": "stream",
     "text": [
      "criterion=squared_error:\n",
      "\n",
      "|--- Gender <= 1.5\n",
      "|   |--- value: [159.7]\n",
      "|--- Gender >  1.5\n",
      "|   |--- value: [180.2]\n",
      "\n",
      "criterion=absolute_error:\n",
      "\n",
      "|--- Gender <= 1.5\n",
      "|   |--- value: [156.6]\n",
      "|--- Gender >  1.5\n",
      "|   |--- value: [178.7]\n",
      "\n"
     ]
    }
   ],
   "source": [
    "from sklearn.tree import DecisionTreeRegressor\n",
    "\n",
    "for criterion in ['squared_error', 'absolute_error']:\n",
    "    rgrsr = DecisionTreeRegressor(criterion=criterion)\n",
    "    rgrsr.fit(x_train, y_train)\n",
    "    print(f'criterion={criterion}:\\n')\n",
    "    print(export_text(rgrsr, feature_names=['Gender'], spacing=3,\n",
    "    decimals=1))"
   ]
  },
  {
   "cell_type": "markdown",
   "id": "b560d8a2",
   "metadata": {},
   "source": [
    "**When MSE was used, the predictions were close to the mean of each gender, while for MAE, the predictions were close to the median.**\n",
    "\n",
    "Actually, in this case, we do not even need to\n",
    "train a decision tree; we could have easily calculated the mean heights for males and\n",
    "females and used them as our expected values right away. The decisions made by such a\n",
    "shallow tree are called biased decisions. If we would have allowed each individual to\n",
    "express themselves using more information, rather than just their gender, then we would\n",
    "have been able to make more accurate predictions for each individual. "
   ]
  },
  {
   "cell_type": "code",
   "execution_count": 53,
   "id": "1dbb9d7f",
   "metadata": {},
   "outputs": [
    {
     "name": "stdout",
     "output_type": "stream",
     "text": [
      "MSE: 128.59444323892362\n",
      "MAE: 7.982210020380829\n"
     ]
    }
   ],
   "source": [
    "from sklearn.metrics import mean_squared_error, mean_absolute_error\n",
    "y_test_pred = rgrsr.predict(x_test)\n",
    "print('MSE:', mean_squared_error(y_test, y_test_pred))\n",
    "print('MAE:', mean_absolute_error(y_test, y_test_pred))"
   ]
  },
  {
   "cell_type": "markdown",
   "id": "bfc85bc0",
   "metadata": {},
   "source": [
    "#### Setting sample weights"
   ]
  },
  {
   "cell_type": "code",
   "execution_count": 58,
   "id": "a4b08cc8",
   "metadata": {},
   "outputs": [
    {
     "name": "stdout",
     "output_type": "stream",
     "text": [
      "emphasis on \"below 150\":\n",
      "|--- Gender <= 1.5\n",
      "|   |--- value: [150.8]\n",
      "|--- Gender >  1.5\n",
      "|   |--- value: [180.2]\n",
      "\n",
      "emphasis on \"above 150\":\n",
      "|--- Gender <= 1.5\n",
      "|   |--- value: [161.8]\n",
      "|--- Gender >  1.5\n",
      "|   |--- value: [180.2]\n",
      "\n"
     ]
    }
   ],
   "source": [
    "rgrsr = DecisionTreeRegressor(criterion='squared_error')\n",
    "\n",
    "print('emphasis on \"below 150\":')\n",
    "sample_weight = y_train.apply(lambda h: 10 if h <= 150 else 1)\n",
    "rgrsr.fit(x_train, y_train, sample_weight=sample_weight)\n",
    "print(\n",
    " export_text(rgrsr, feature_names=['Gender'], spacing=3, decimals=1)\n",
    ")\n",
    "print('emphasis on \"above 150\":')\n",
    "sample_weight = y_train.apply(lambda h: 10 if h > 150 else 1)\n",
    "rgrsr.fit(x_train, y_train, sample_weight=sample_weight)\n",
    "print(\n",
    " export_text(rgrsr, feature_names=['Gender'], spacing=3, decimals=1)\n",
    ")"
   ]
  }
 ],
 "metadata": {
  "kernelspec": {
   "display_name": "Python 3 (ipykernel)",
   "language": "python",
   "name": "python3"
  },
  "language_info": {
   "codemirror_mode": {
    "name": "ipython",
    "version": 3
   },
   "file_extension": ".py",
   "mimetype": "text/x-python",
   "name": "python",
   "nbconvert_exporter": "python",
   "pygments_lexer": "ipython3",
   "version": "3.8.10"
  }
 },
 "nbformat": 4,
 "nbformat_minor": 5
}
