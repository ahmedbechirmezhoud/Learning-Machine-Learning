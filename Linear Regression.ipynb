{
 "cells": [
  {
   "cell_type": "markdown",
   "id": "ce79773e",
   "metadata": {},
   "source": [
    "## Linear Regression"
   ]
  },
  {
   "cell_type": "markdown",
   "id": "6b9addbb",
   "metadata": {},
   "source": [
    "##### Predict house prices in Boston\n",
    "\n",
    "The Boston dataset is a small set representing the house prices in the city of Boston. It\n",
    "contains 506 samples and 13 features."
   ]
  },
  {
   "cell_type": "code",
   "execution_count": 5,
   "id": "b1868176",
   "metadata": {},
   "outputs": [],
   "source": [
    "from sklearn.datasets import load_boston\n",
    "import pandas as pd\n",
    "\n",
    "boston = load_boston()\n",
    "\n",
    "df_dataset = pd.DataFrame(\n",
    " boston.data,\n",
    " columns=boston.feature_names,\n",
    ")\n",
    "df_dataset['target'] = boston.target"
   ]
  },
  {
   "cell_type": "markdown",
   "id": "ae1b60a5",
   "metadata": {},
   "source": [
    "#### Data exploration"
   ]
  },
  {
   "cell_type": "code",
   "execution_count": 6,
   "id": "641adfbc",
   "metadata": {},
   "outputs": [
    {
     "data": {
      "text/plain": [
       "0"
      ]
     },
     "execution_count": 6,
     "metadata": {},
     "output_type": "execute_result"
    }
   ],
   "source": [
    "df_dataset.isnull().sum().sum()"
   ]
  },
  {
   "cell_type": "code",
   "execution_count": 11,
   "id": "e70d46b8",
   "metadata": {},
   "outputs": [
    {
     "data": {
      "text/plain": [
       "<AxesSubplot:title={'center':'Mean of features'}>"
      ]
     },
     "execution_count": 11,
     "metadata": {},
     "output_type": "execute_result"
    },
    {
     "data": {
      "image/png": "[encoded data removed]",
      "text/plain": [
       "<Figure size 1152x576 with 2 Axes>"
      ]
     },
     "metadata": {
      "needs_background": "light"
     },
     "output_type": "display_data"
    }
   ],
   "source": [
    "import matplotlib.pyplot as plt\n",
    "\n",
    "fig , axs = plt.subplots(1, 2, figsize=(16, 8))\n",
    "\n",
    "df_dataset['target'].plot(\n",
    "    title='Distribution of target prices', kind='hist', ax=axs[0]\n",
    ")\n",
    "df_dataset[boston.feature_names].mean().plot(\n",
    "    title='Mean of features', kind='bar', ax=axs[1]\n",
    ")"
   ]
  },
  {
   "cell_type": "code",
   "execution_count": 12,
   "id": "20baecb0",
   "metadata": {},
   "outputs": [
    {
     "data": {
      "text/plain": [
       "count    506.000000\n",
       "mean      22.532806\n",
       "std        9.197104\n",
       "min        5.000000\n",
       "50%       21.200000\n",
       "90%       34.800000\n",
       "95%       43.400000\n",
       "99%       50.000000\n",
       "max       50.000000\n",
       "Name: target, dtype: float64"
      ]
     },
     "execution_count": 12,
     "metadata": {},
     "output_type": "execute_result"
    }
   ],
   "source": [
    "df_dataset['target'].describe(percentiles=[.9, .95, .99])"
   ]
  },
  {
   "cell_type": "markdown",
   "id": "e4887db2",
   "metadata": {},
   "source": [
    "##### Splitting the data"
   ]
  },
  {
   "cell_type": "code",
   "execution_count": 16,
   "id": "e3339b34",
   "metadata": {},
   "outputs": [],
   "source": [
    "from sklearn.model_selection import train_test_split\n",
    "\n",
    "df_train, df_test = train_test_split(df_dataset, test_size=0.4)\n",
    "\n",
    "x_train = df_train[boston.feature_names]\n",
    "x_test = df_test[boston.feature_names]\n",
    "y_train = df_train['target']\n",
    "y_test = df_test['target']"
   ]
  },
  {
   "cell_type": "markdown",
   "id": "d1d4edee",
   "metadata": {},
   "source": [
    "###### Calculating a baseline "
   ]
  },
  {
   "cell_type": "code",
   "execution_count": 19,
   "id": "bcc7c697",
   "metadata": {},
   "outputs": [],
   "source": [
    "from sklearn.dummy import DummyRegressor\n",
    "\n",
    "baselin = DummyRegressor(strategy='mean')\n",
    "baselin.fit(x_train, y_train)\n",
    "\n",
    "y_test_baselin = baselin.predict(x_test)"
   ]
  },
  {
   "cell_type": "markdown",
   "id": "71ef12da",
   "metadata": {},
   "source": [
    "#### Training Linear Regressor"
   ]
  },
  {
   "cell_type": "code",
   "execution_count": 20,
   "id": "cc9ca348",
   "metadata": {},
   "outputs": [],
   "source": [
    "from sklearn.linear_model import LinearRegression\n",
    "\n",
    "reg = LinearRegression()\n",
    "reg.fit(x_train, y_train)\n",
    "\n",
    "y_test_pred = reg.predict(x_test)"
   ]
  },
  {
   "cell_type": "markdown",
   "id": "fd433dcc",
   "metadata": {},
   "source": [
    "#### Evaluating the model"
   ]
  },
  {
   "cell_type": "code",
   "execution_count": 22,
   "id": "f2bb8894",
   "metadata": {},
   "outputs": [
    {
     "name": "stdout",
     "output_type": "stream",
     "text": [
      "R2 regressor = 0.70 vs Baseline -0.01\n",
      "MAE Regressor = 3.32 vs Baseline = 6.41\n",
      "MSE Regressor = 22.31 vs Baseline = 75.33\n"
     ]
    }
   ],
   "source": [
    "from sklearn.metrics import r2_score\n",
    "from sklearn.metrics import mean_absolute_error\n",
    "from sklearn.metrics import mean_squared_error\n",
    "\n",
    "print('R2 regressor = {:.2f} vs Baseline {:.2f}'.format(r2_score(y_test, y_test_pred), r2_score(y_test, y_test_baselin)) )\n",
    "print('MAE Regressor = {:.2f} vs Baseline = {:.2f}'.format( mean_absolute_error(y_test, y_test_pred), mean_absolute_error(y_test, y_test_baselin) )  )\n",
    "print('MSE Regressor = {:.2f} vs Baseline = {:.2f}'.format( mean_squared_error(y_test, y_test_pred), mean_squared_error(y_test, y_test_baselin) )  )\n"
   ]
  },
  {
   "cell_type": "markdown",
   "id": "2de54dcd",
   "metadata": {},
   "source": [
    "##### Showing feature coefficients "
   ]
  },
  {
   "cell_type": "code",
   "execution_count": 24,
   "id": "c963bfe3",
   "metadata": {},
   "outputs": [
    {
     "data": {
      "text/html": [
       "<div>\n",
       "<style scoped>\n",
       "    .dataframe tbody tr th:only-of-type {\n",
       "        vertical-align: middle;\n",
       "    }\n",
       "\n",
       "    .dataframe tbody tr th {\n",
       "        vertical-align: top;\n",
       "    }\n",
       "\n",
       "    .dataframe thead th {\n",
       "        text-align: right;\n",
       "    }\n",
       "</style>\n",
       "<table border=\"1\" class=\"dataframe\">\n",
       "  <thead>\n",
       "    <tr style=\"text-align: right;\">\n",
       "      <th></th>\n",
       "      <th>Coeff</th>\n",
       "      <th>ABS(Coeff)</th>\n",
       "    </tr>\n",
       "    <tr>\n",
       "      <th>Features</th>\n",
       "      <th></th>\n",
       "      <th></th>\n",
       "    </tr>\n",
       "  </thead>\n",
       "  <tbody>\n",
       "    <tr>\n",
       "      <th>RM</th>\n",
       "      <td>3.431950</td>\n",
       "      <td>3.431950</td>\n",
       "    </tr>\n",
       "    <tr>\n",
       "      <th>CHAS</th>\n",
       "      <td>2.355514</td>\n",
       "      <td>2.355514</td>\n",
       "    </tr>\n",
       "    <tr>\n",
       "      <th>RAD</th>\n",
       "      <td>0.268040</td>\n",
       "      <td>0.268040</td>\n",
       "    </tr>\n",
       "    <tr>\n",
       "      <th>ZN</th>\n",
       "      <td>0.059646</td>\n",
       "      <td>0.059646</td>\n",
       "    </tr>\n",
       "    <tr>\n",
       "      <th>B</th>\n",
       "      <td>0.008793</td>\n",
       "      <td>0.008793</td>\n",
       "    </tr>\n",
       "    <tr>\n",
       "      <th>AGE</th>\n",
       "      <td>-0.003716</td>\n",
       "      <td>0.003716</td>\n",
       "    </tr>\n",
       "    <tr>\n",
       "      <th>TAX</th>\n",
       "      <td>-0.008901</td>\n",
       "      <td>0.008901</td>\n",
       "    </tr>\n",
       "    <tr>\n",
       "      <th>INDUS</th>\n",
       "      <td>-0.105403</td>\n",
       "      <td>0.105403</td>\n",
       "    </tr>\n",
       "    <tr>\n",
       "      <th>CRIM</th>\n",
       "      <td>-0.112803</td>\n",
       "      <td>0.112803</td>\n",
       "    </tr>\n",
       "    <tr>\n",
       "      <th>LSTAT</th>\n",
       "      <td>-0.549336</td>\n",
       "      <td>0.549336</td>\n",
       "    </tr>\n",
       "    <tr>\n",
       "      <th>PTRATIO</th>\n",
       "      <td>-0.847772</td>\n",
       "      <td>0.847772</td>\n",
       "    </tr>\n",
       "    <tr>\n",
       "      <th>DIS</th>\n",
       "      <td>-1.725544</td>\n",
       "      <td>1.725544</td>\n",
       "    </tr>\n",
       "    <tr>\n",
       "      <th>NOX</th>\n",
       "      <td>-15.409555</td>\n",
       "      <td>15.409555</td>\n",
       "    </tr>\n",
       "  </tbody>\n",
       "</table>\n",
       "</div>"
      ],
      "text/plain": [
       "              Coeff  ABS(Coeff)\n",
       "Features                       \n",
       "RM         3.431950    3.431950\n",
       "CHAS       2.355514    2.355514\n",
       "RAD        0.268040    0.268040\n",
       "ZN         0.059646    0.059646\n",
       "B          0.008793    0.008793\n",
       "AGE       -0.003716    0.003716\n",
       "TAX       -0.008901    0.008901\n",
       "INDUS     -0.105403    0.105403\n",
       "CRIM      -0.112803    0.112803\n",
       "LSTAT     -0.549336    0.549336\n",
       "PTRATIO   -0.847772    0.847772\n",
       "DIS       -1.725544    1.725544\n",
       "NOX      -15.409555   15.409555"
      ]
     },
     "execution_count": 24,
     "metadata": {},
     "output_type": "execute_result"
    }
   ],
   "source": [
    "df_feature_importance = pd.DataFrame(\n",
    "    {\n",
    "        'Features': x_train.columns,\n",
    "        'Coeff': reg.coef_,\n",
    "        'ABS(Coeff)': abs(reg.coef_),\n",
    "    }\n",
    ").set_index('Features').sort_values('Coeff', ascending=False)\n",
    "df_feature_importance"
   ]
  },
  {
   "cell_type": "markdown",
   "id": "be9525db",
   "metadata": {},
   "source": [
    "##### Scaling for more meaningful coefficients"
   ]
  },
  {
   "cell_type": "code",
   "execution_count": 25,
   "id": "36916315",
   "metadata": {},
   "outputs": [],
   "source": [
    "from sklearn.linear_model import LinearRegression\n",
    "from sklearn.preprocessing import MinMaxScaler\n",
    "\n",
    "scaler = MinMaxScaler()\n",
    "reg = LinearRegression()\n",
    "\n",
    "# scaler.fit(x_train)\n",
    "# x_train_scaled = scaler.transform(x_train)\n",
    "### or use simply\n",
    "x_train_scaled = scaler.fit_transform(x_train)\n",
    "\n",
    "x_test_scaled = scaler.transform(x_test)\n",
    "\n",
    "reg.fit(x_train_scaled, y_train)\n",
    "y_test_red = reg.predict(x_test_scaled)"
   ]
  },
  {
   "cell_type": "code",
   "execution_count": 26,
   "id": "e82f3482",
   "metadata": {},
   "outputs": [
    {
     "data": {
      "text/html": [
       "<div>\n",
       "<style scoped>\n",
       "    .dataframe tbody tr th:only-of-type {\n",
       "        vertical-align: middle;\n",
       "    }\n",
       "\n",
       "    .dataframe tbody tr th {\n",
       "        vertical-align: top;\n",
       "    }\n",
       "\n",
       "    .dataframe thead th {\n",
       "        text-align: right;\n",
       "    }\n",
       "</style>\n",
       "<table border=\"1\" class=\"dataframe\">\n",
       "  <thead>\n",
       "    <tr style=\"text-align: right;\">\n",
       "      <th></th>\n",
       "      <th>Coeff</th>\n",
       "      <th>ABS(Coeff)</th>\n",
       "    </tr>\n",
       "    <tr>\n",
       "      <th>Features</th>\n",
       "      <th></th>\n",
       "      <th></th>\n",
       "    </tr>\n",
       "  </thead>\n",
       "  <tbody>\n",
       "    <tr>\n",
       "      <th>RM</th>\n",
       "      <td>17.911348</td>\n",
       "      <td>17.911348</td>\n",
       "    </tr>\n",
       "    <tr>\n",
       "      <th>RAD</th>\n",
       "      <td>6.164918</td>\n",
       "      <td>6.164918</td>\n",
       "    </tr>\n",
       "    <tr>\n",
       "      <th>ZN</th>\n",
       "      <td>5.964631</td>\n",
       "      <td>5.964631</td>\n",
       "    </tr>\n",
       "    <tr>\n",
       "      <th>B</th>\n",
       "      <td>3.487315</td>\n",
       "      <td>3.487315</td>\n",
       "    </tr>\n",
       "    <tr>\n",
       "      <th>CHAS</th>\n",
       "      <td>2.355514</td>\n",
       "      <td>2.355514</td>\n",
       "    </tr>\n",
       "    <tr>\n",
       "      <th>AGE</th>\n",
       "      <td>-0.349265</td>\n",
       "      <td>0.349265</td>\n",
       "    </tr>\n",
       "    <tr>\n",
       "      <th>INDUS</th>\n",
       "      <td>-2.875400</td>\n",
       "      <td>2.875400</td>\n",
       "    </tr>\n",
       "    <tr>\n",
       "      <th>TAX</th>\n",
       "      <td>-4.664076</td>\n",
       "      <td>4.664076</td>\n",
       "    </tr>\n",
       "    <tr>\n",
       "      <th>NOX</th>\n",
       "      <td>-7.489044</td>\n",
       "      <td>7.489044</td>\n",
       "    </tr>\n",
       "    <tr>\n",
       "      <th>CRIM</th>\n",
       "      <td>-7.660414</td>\n",
       "      <td>7.660414</td>\n",
       "    </tr>\n",
       "    <tr>\n",
       "      <th>PTRATIO</th>\n",
       "      <td>-7.969061</td>\n",
       "      <td>7.969061</td>\n",
       "    </tr>\n",
       "    <tr>\n",
       "      <th>DIS</th>\n",
       "      <td>-18.962868</td>\n",
       "      <td>18.962868</td>\n",
       "    </tr>\n",
       "    <tr>\n",
       "      <th>LSTAT</th>\n",
       "      <td>-19.803575</td>\n",
       "      <td>19.803575</td>\n",
       "    </tr>\n",
       "  </tbody>\n",
       "</table>\n",
       "</div>"
      ],
      "text/plain": [
       "              Coeff  ABS(Coeff)\n",
       "Features                       \n",
       "RM        17.911348   17.911348\n",
       "RAD        6.164918    6.164918\n",
       "ZN         5.964631    5.964631\n",
       "B          3.487315    3.487315\n",
       "CHAS       2.355514    2.355514\n",
       "AGE       -0.349265    0.349265\n",
       "INDUS     -2.875400    2.875400\n",
       "TAX       -4.664076    4.664076\n",
       "NOX       -7.489044    7.489044\n",
       "CRIM      -7.660414    7.660414\n",
       "PTRATIO   -7.969061    7.969061\n",
       "DIS      -18.962868   18.962868\n",
       "LSTAT    -19.803575   19.803575"
      ]
     },
     "execution_count": 26,
     "metadata": {},
     "output_type": "execute_result"
    }
   ],
   "source": [
    "df_feature_importance = pd.DataFrame(\n",
    "    {\n",
    "        'Features': x_train.columns,\n",
    "        'Coeff': reg.coef_,\n",
    "        'ABS(Coeff)': abs(reg.coef_),\n",
    "    }\n",
    ").set_index('Features').sort_values('Coeff', ascending=False)\n",
    "df_feature_importance"
   ]
  },
  {
   "cell_type": "markdown",
   "id": "c57fb955",
   "metadata": {},
   "source": [
    "##### Adding polynomial features\n",
    "\n",
    "*A polynomial transformation can solve both the non-linearity and feature interaction issues\n",
    "for us. Given the original data, scikit-learn's polynomial transformer will transform the\n",
    "features into higher dimensions*"
   ]
  },
  {
   "cell_type": "code",
   "execution_count": 29,
   "id": "0af5900e",
   "metadata": {},
   "outputs": [],
   "source": [
    "from sklearn.preprocessing import PolynomialFeatures\n",
    "\n",
    "poly = PolynomialFeatures(degree=3)\n",
    "x_train_poly = poly.fit_transform(x_train)\n",
    "x_test_poly = poly.transform(x_test)\n",
    "\n",
    "feature_translator = [\n",
    " (f'x{i}', feature) for i, feature in enumerate(x_train.columns, 0)\n",
    "]\n",
    "def translate_feature_names(s):\n",
    "    for key, val in feature_translator:\n",
    "        s = s.replace(key, val)\n",
    "    return s\n",
    "poly_features = [\n",
    " translate_feature_names(f) for f in poly.get_feature_names_out()\n",
    "]\n",
    "x_train_poly = pd.DataFrame(x_train_poly, columns=poly_features)\n",
    "x_test_poly = pd.DataFrame(x_test_poly, columns=poly_features)"
   ]
  },
  {
   "cell_type": "code",
   "execution_count": 30,
   "id": "50df4600",
   "metadata": {},
   "outputs": [],
   "source": [
    "from sklearn.linear_model import LinearRegression\n",
    "\n",
    "reg = LinearRegression(fit_intercept=False)\n",
    "reg.fit(x_train_poly, y_train)\n",
    "y_test_pred = reg.predict(x_test_poly)"
   ]
  },
  {
   "cell_type": "code",
   "execution_count": 31,
   "id": "a2c1ead3",
   "metadata": {},
   "outputs": [
    {
     "name": "stdout",
     "output_type": "stream",
     "text": [
      "R2 regressor = -76.25 vs Baseline -0.01\n",
      "MAE Regressor = 35.91 vs Baseline = 6.41\n",
      "MSE Regressor = 5764.31 vs Baseline = 75.33\n"
     ]
    }
   ],
   "source": [
    "print('R2 regressor = {:.2f} vs Baseline {:.2f}'.format(r2_score(y_test, y_test_pred), r2_score(y_test, y_test_baselin)) )\n",
    "print('MAE Regressor = {:.2f} vs Baseline = {:.2f}'.format( mean_absolute_error(y_test, y_test_pred), mean_absolute_error(y_test, y_test_baselin) )  )\n",
    "print('MSE Regressor = {:.2f} vs Baseline = {:.2f}'.format( mean_squared_error(y_test, y_test_pred), mean_squared_error(y_test, y_test_baselin) )  )"
   ]
  },
  {
   "cell_type": "markdown",
   "id": "9e8ec3b4",
   "metadata": {},
   "source": [
    "##### Training the lasso regressor"
   ]
  },
  {
   "cell_type": "code",
   "execution_count": 53,
   "id": "aef6e24d",
   "metadata": {},
   "outputs": [
    {
     "name": "stdout",
     "output_type": "stream",
     "text": [
      "R2 regressor = 0.69 vs Baseline -0.01\n",
      "MAE Regressor = 3.32 vs Baseline = 6.41\n",
      "MSE Regressor = 23.10 vs Baseline = 75.33\n"
     ]
    }
   ],
   "source": [
    "from sklearn.linear_model import Ridge, Lasso\n",
    "reg = Lasso(tol=0.1, fit_intercept=False)\n",
    "reg.fit(x_train_poly, y_train)\n",
    "y_test_pred = reg.predict(x_test_poly)\n",
    "\n",
    "print('R2 regressor = {:.2f} vs Baseline {:.2f}'.format(r2_score(y_test, y_test_pred), r2_score(y_test, y_test_baselin)) )\n",
    "print('MAE Regressor = {:.2f} vs Baseline = {:.2f}'.format( mean_absolute_error(y_test, y_test_pred), mean_absolute_error(y_test, y_test_baselin) )  )\n",
    "print('MSE Regressor = {:.2f} vs Baseline = {:.2f}'.format( mean_squared_error(y_test, y_test_pred), mean_squared_error(y_test, y_test_baselin) )  )"
   ]
  },
  {
   "cell_type": "markdown",
   "id": "26bdc881",
   "metadata": {},
   "source": [
    "###### N-fold cross-validation"
   ]
  },
  {
   "cell_type": "code",
   "execution_count": 55,
   "id": "e20efaf4",
   "metadata": {},
   "outputs": [
    {
     "name": "stdout",
     "output_type": "stream",
     "text": [
      "LassoCV: Chosen alpha = 1.325711365590108\n"
     ]
    }
   ],
   "source": [
    "from sklearn.linear_model import LassoCV\n",
    "import numpy as np\n",
    "# Make a list of 50 values between 0.000001 & 1,000,000\n",
    "alphas = np.logspace(-6, 6, 50)\n",
    "# We will do 5-fold cross validation\n",
    "reg = LassoCV(tol=0.1, alphas=alphas, fit_intercept=False, cv=5)\n",
    "reg.fit(x_train_poly, y_train)\n",
    "y_train_pred = reg.predict(x_train_poly)\n",
    "y_test_pred = reg.predict(x_test_poly)\n",
    "print(f\"LassoCV: Chosen alpha = {reg.alpha_}\")\n"
   ]
  },
  {
   "cell_type": "code",
   "execution_count": 56,
   "id": "d3575910",
   "metadata": {
    "scrolled": false
   },
   "outputs": [
    {
     "data": {
      "text/plain": [
       "Text(0, 0.5, 'Mean Squared Error')"
      ]
     },
     "execution_count": 56,
     "metadata": {},
     "output_type": "execute_result"
    },
    {
     "data": {
      "image/png": "[encoded data removed]",
      "text/plain": [
       "<Figure size 1152x576 with 1 Axes>"
      ]
     },
     "metadata": {
      "needs_background": "light"
     },
     "output_type": "display_data"
    }
   ],
   "source": [
    "# n_folds equals to 5 here\n",
    "n_folds = reg.mse_path_.shape[1]\n",
    "# Calculate the mean and standard error for MSEs\n",
    "mse_mean = reg.mse_path_.mean(axis=1)\n",
    "mse_std = reg.mse_path_.std(axis=1)\n",
    "# Std Error = Std Deviation / SQRT(number of samples)\n",
    "mse_std_error = mse_std / np.sqrt(n_folds)\n",
    "\n",
    "fig, ax = plt.subplots(1, 1, figsize=(16, 8))\n",
    "# We multiply by 1.96 for a 95% Confidence Interval\n",
    "pd.DataFrame(\n",
    " {\n",
    " 'alpha': reg.alphas_,\n",
    " 'Mean MSE': mse_mean,\n",
    " 'Upper Bound MSE': mse_mean + 1.96 * mse_std_error,\n",
    " 'Lower Bound MSE': mse_mean - 1.96 * mse_std_error,\n",
    " }\n",
    ").set_index('alpha')[\n",
    " ['Mean MSE', 'Upper Bound MSE', 'Lower Bound MSE']\n",
    "].plot(\n",
    " title='Regularization plot (MSE vs alpha)',\n",
    " marker='.', logx=True, ax=ax\n",
    ")\n",
    "# Color the confidence interval\n",
    "plt.fill_between(\n",
    " reg.alphas_,\n",
    " mse_mean + 1.96 * mse_std_error,\n",
    " mse_mean - 1.96 * mse_std_error,\n",
    ") \n",
    "# Print a vertical line for the chosen alpha\n",
    "ax.axvline(reg.alpha_, linestyle='--', color='k')\n",
    "ax.set_xlabel('Alpha')\n",
    "ax.set_ylabel('Mean Squared Error')\n"
   ]
  },
  {
   "cell_type": "markdown",
   "id": "3849aafd",
   "metadata": {},
   "source": [
    "#### Finding regression intervals\n",
    "create a noisy dataset, where : **y = x + noise**"
   ]
  },
  {
   "cell_type": "code",
   "execution_count": 59,
   "id": "ff590092",
   "metadata": {},
   "outputs": [],
   "source": [
    "import numpy as np\n",
    "import pandas as pd\n",
    "\n",
    "df_noisy = pd.DataFrame(\n",
    " {\n",
    " 'x': np.random.randint(0, 30, size=150),\n",
    " 'noise': np.random.normal(loc=0.0, scale=5.0, size=150)\n",
    " }\n",
    ")\n",
    "df_noisy['y'] = df_noisy['x'] + df_noisy['noise']\n"
   ]
  },
  {
   "cell_type": "code",
   "execution_count": 60,
   "id": "cd69749a",
   "metadata": {},
   "outputs": [
    {
     "data": {
      "text/plain": [
       "<AxesSubplot:xlabel='x', ylabel='y'>"
      ]
     },
     "execution_count": 60,
     "metadata": {},
     "output_type": "execute_result"
    },
    {
     "data": {
      "image/png": "[encoded data removed]",
      "text/plain": [
       "<Figure size 432x288 with 1 Axes>"
      ]
     },
     "metadata": {
      "needs_background": "light"
     },
     "output_type": "display_data"
    }
   ],
   "source": [
    "df_noisy.plot(kind=\"scatter\", x=\"x\", y=\"y\")"
   ]
  },
  {
   "cell_type": "code",
   "execution_count": 61,
   "id": "d35a4912",
   "metadata": {},
   "outputs": [],
   "source": [
    "from sklearn.linear_model import LinearRegression\n",
    "from sklearn.linear_model import BayesianRidge\n",
    "\n",
    "lr = LinearRegression()\n",
    "br = BayesianRidge()\n",
    "\n",
    "lr.fit(df_noisy[['x']], df_noisy['y'])\n",
    "df_noisy['y_lr_pred'] = lr.predict(df_noisy[['x']])\n",
    "\n",
    "br.fit(df_noisy[['x']], df_noisy['y'])\n",
    "df_noisy['y_br_pred'], df_noisy['y_br_std'] = br.predict(df_noisy[['x']], return_std=True)\n"
   ]
  },
  {
   "cell_type": "code",
   "execution_count": 62,
   "id": "bb2ca82a",
   "metadata": {},
   "outputs": [
    {
     "data": {
      "text/plain": [
       "<matplotlib.collections.PolyCollection at 0x7fd12255b8b0>"
      ]
     },
     "execution_count": 62,
     "metadata": {},
     "output_type": "execute_result"
    },
    {
     "data": {
      "image/png": "[encoded data removed]",
      "text/plain": [
       "<Figure size 1152x432 with 3 Axes>"
      ]
     },
     "metadata": {
      "needs_background": "light"
     },
     "output_type": "display_data"
    }
   ],
   "source": [
    "fig, axs = plt.subplots(1, 3, figsize=(16, 6), sharex=True, sharey=True)\n",
    "# We plot the data 3 times\n",
    "df_noisy.sort_values('x').plot(\n",
    " title='Data', kind='scatter', x='x', y='y', ax=axs[0]\n",
    ")\n",
    "df_noisy.sort_values('x').plot(\n",
    " kind='scatter', x='x', y='y', ax=axs[1], marker='o', alpha=0.25\n",
    ")\n",
    "df_noisy.sort_values('x').plot(\n",
    " kind='scatter', x='x', y='y', ax=axs[2], marker='o', alpha=0.25\n",
    ")\n",
    "# Here we plot the Linear Regression predictions\n",
    "df_noisy.sort_values('x').plot(\n",
    " title='LinearRegression', kind='scatter', x='x', y='y_lr_pred',\n",
    " ax=axs[1], marker='o', color='k', label='Predictions'\n",
    ")\n",
    "# Here we plot the Bayesian Ridge predictions\n",
    "df_noisy.sort_values('x').plot(\n",
    " title='BayesianRidge', kind='scatter', x='x', y='y_br_pred',\n",
    " ax=axs[2], marker='o', color='k', label='Predictions'\n",
    ")\n",
    "# Here we plot the range around the expected values\n",
    "# We multiply by 1.96 for a 95% Confidence Interval\n",
    "axs[2].fill_between(\n",
    " df_noisy.sort_values('x')['x'],\n",
    " df_noisy.sort_values('x')['y_br_pred'] - 1.96 *\n",
    "    df_noisy.sort_values('x')['y_br_std'],\n",
    " df_noisy.sort_values('x')['y_br_pred'] + 1.96 *\n",
    " df_noisy.sort_values('x')['y_br_std'],\n",
    " color=\"k\", alpha=0.2, label=\"Predictions +/- 1.96 * Std Dev\"\n",
    ")\n"
   ]
  },
  {
   "cell_type": "markdown",
   "id": "8066b083",
   "metadata": {},
   "source": [
    "#### Logistic Regression\n",
    "Classifying the Iris dataset using logistic\n",
    "regression"
   ]
  },
  {
   "cell_type": "code",
   "execution_count": 3,
   "id": "1abe70f9",
   "metadata": {},
   "outputs": [],
   "source": [
    "from sklearn import datasets\n",
    "import pandas as pd\n",
    "\n",
    "iris = datasets.load_iris()\n",
    "df = pd.DataFrame(\n",
    "    iris.data,\n",
    "    columns= iris.feature_names\n",
    ")\n",
    "\n",
    "df['target'] = pd.Series(iris.target)"
   ]
  },
  {
   "cell_type": "code",
   "execution_count": 8,
   "id": "7659a695",
   "metadata": {},
   "outputs": [
    {
     "name": "stdout",
     "output_type": "stream",
     "text": [
      "Logistic Regression: Accuracy (6-fold): 0.94 ~ 0.99\n"
     ]
    }
   ],
   "source": [
    "from sklearn.linear_model import LogisticRegression\n",
    "from sklearn.model_selection import cross_validate \n",
    "import numpy as np\n",
    "\n",
    "num_folds = 6\n",
    "\n",
    "clf = LogisticRegression(solver='lbfgs', multi_class='multinomial', max_iter=1000)\n",
    "accuracy_score = cross_validate(clf, df[iris.feature_names], df['target'], cv=num_folds, scoring=['accuracy'])\n",
    "\n",
    "accuracy_mean = pd.Series(accuracy_score['test_accuracy']).mean()\n",
    "accuracy_std = pd.Series(accuracy_score['test_accuracy']).std()\n",
    "accuracy_sterror = accuracy_std / np.sqrt(num_folds)\n",
    "\n",
    "print(\n",
    " 'Logistic Regression: Accuracy ({}-fold): {:.2f} ~ {:.2f}'.format(\n",
    " num_folds,\n",
    " (accuracy_mean - 1.96 * accuracy_sterror),\n",
    " (accuracy_mean + 1.96 * accuracy_sterror),\n",
    " )\n",
    ")\n"
   ]
  }
 ],
 "metadata": {
  "kernelspec": {
   "display_name": "Python 3 (ipykernel)",
   "language": "python",
   "name": "python3"
  },
  "language_info": {
   "codemirror_mode": {
    "name": "ipython",
    "version": 3
   },
   "file_extension": ".py",
   "mimetype": "text/x-python",
   "name": "python",
   "nbconvert_exporter": "python",
   "pygments_lexer": "ipython3",
   "version": "3.9.15"
  }
 },
 "nbformat": 4,
 "nbformat_minor": 5
}
